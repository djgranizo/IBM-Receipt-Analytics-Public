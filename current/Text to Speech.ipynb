{
 "cells": [
  {
   "cell_type": "code",
   "execution_count": 1,
   "metadata": {},
   "outputs": [],
   "source": [
    "# pip install pyttsx3 pypiwin32\n",
    "import pyttsx3\n",
    "import time\n",
    "import optparse"
   ]
  },
  {
   "cell_type": "code",
   "execution_count": 2,
   "metadata": {},
   "outputs": [],
   "source": [
    "# One time initialization\n",
    "engine = pyttsx3.init()\n",
    "\n",
    "# Set properties _before_ you add things to say\n",
    "engine.setProperty('rate', 150)    # Speed percent (can go over 100)\n",
    "engine.setProperty('volume', 0.9)  # Volume 0-1"
   ]
  },
  {
   "cell_type": "code",
   "execution_count": 4,
   "metadata": {},
   "outputs": [],
   "source": [
    "# Queue up things to say.\n",
    "# There will be a short break between each one\n",
    "# when spoken, like a pause between sentences.\n",
    "engine.say(\"Analyzing Receipt\")\n",
    "engine.say(\"Receipt Analyzed\")\n",
    "engine.say(\"This receipt Was a meal expense issued on March 3, 2019 for a total amount of 33 dollars and 42 cents.\")\n",
    "\n",
    "# Flush the say() queue and play the audio\n",
    "engine.runAndWait()\n",
    "\n",
    "# Program will not continue execution until\n",
    "# all speech is done talking"
   ]
  },
  {
   "cell_type": "code",
   "execution_count": 27,
   "metadata": {},
   "outputs": [],
   "source": [
    "def read_date(date_input):\n",
    "    \n",
    "    hour_name = [\"midnight\", \"one\", \"two\", \"three\", \"four\", \"five\", \"six\", \"seven\", \"eight\", \"nine\", \"ten\", \"eleven\", \"noon\", \"thirteen\", \"fourteen\", \"fifteen\", \"sixteen\", \"seventeen\", \"eighteen\", \"nineteen\", \"twenty\", \"twenty-one\", \"twenty-two\", \"twenty-three\", \"midnight\"]\n",
    "\n",
    "    date_name = [\"ZEEROTH\",\"First\", \"Second\", \"Third\", \"Fourth\", \"Fifth\", \"Sixth\", \"Seventh\", \"Eighth\", \"Ninth\", \"Tenth\", \"Eleventh\", \"Twelfth\", \"Thirteenth\", \"Fourteenth\", \"Fifteenth\", \"Sixteenth\", \"Seventeenth\", \"Eighteenth\", \"Nineteenth\", \"Twentieth\", \"Twenty-first\", \"Twenty-second\", \"Twenty-third\", \"Twenty-fourth\", \"Twenty-fifth\", \"Twenty-sixth\", \"Twenty-seventh\", \"Twenty-eighth\", \"Twenty-ninth\", \"Thirtieth\", \"Thirty-first\"]\n",
    "\n",
    "    parser = optparse.OptionParser()\n",
    "\n",
    "    parser.set_defaults(date_opt=False, time_opt=False )\n",
    "    parser.add_option(\"-d\", \"--date\", action=\"store_true\", dest=\"date_opt\")\n",
    "    parser.add_option(\"-t\", \"--time\", action=\"store_true\", dest=\"time_opt\")\n",
    "\n",
    "    (options, args) = parser.parse_args()\n",
    "\n",
    "    if (options.date_opt == False):\n",
    "        if (options.time_opt == False):\n",
    "            options.date_opt = True\n",
    "            options.time_opt = True\n",
    "\n",
    "    datenum = time.localtime()\n",
    "    if datenum[4] + datenum[5]/60 > 57:\n",
    "        datenum = time.localtime(time.time() + 150)\n",
    "    date = {\"year\": datenum[0], \"month\": datenum[1], \"mday\": datenum[2], \"hour\": datenum[3], \"min\": datenum[4], \"sec\": datenum[5], \"wday\": datenum[6], \"yday\": datenum[7], \"isdst\": datenum[8]}\n",
    "\n",
    "    timestring = \"\"\n",
    "\n",
    "    if (options.date_opt == True):\n",
    "\n",
    "        timestring += time.strftime(\"%A, \", datenum)\n",
    "\n",
    "        timestring += \"the \" + date_name[date[\"mday\"]] + \" of \"\n",
    "\n",
    "        timestring += time.strftime(\"%B, %Y\", datenum)\n",
    "        \n",
    "    return timestring"
   ]
  },
  {
   "cell_type": "code",
   "execution_count": 17,
   "metadata": {},
   "outputs": [],
   "source": [
    "def read_output(date, total, expense_type):\n",
    "    engine.say(\"Analyzing Receipt\")\n",
    "    engine.say(\"Receipt Analyzed\")\n",
    "    \n",
    "    if(date == None):\n",
    "        engine.say(\"Date not found\")\n",
    "    else:\n",
    "        date_speech = read_date(date_input)\n",
    "    if(total == None):\n",
    "        engine.say(\"Total Amount not found\")\n",
    "        total_speech = total\n",
    "    if(expense_type == None):\n",
    "        engine.say(\"Expense Type not found\")\n",
    "        expense_speech =\n",
    "    else:\n",
    "        engine.say(\"This receipt was a {} expense issued on {} for a total amount of {}\".format(expense_speech, date_speech, total_speech))"
   ]
  }
 ],
 "metadata": {
  "kernelspec": {
   "display_name": "Python 3",
   "language": "python",
   "name": "python3"
  },
  "language_info": {
   "codemirror_mode": {
    "name": "ipython",
    "version": 3
   },
   "file_extension": ".py",
   "mimetype": "text/x-python",
   "name": "python",
   "nbconvert_exporter": "python",
   "pygments_lexer": "ipython3",
   "version": "3.7.1"
  }
 },
 "nbformat": 4,
 "nbformat_minor": 2
}
